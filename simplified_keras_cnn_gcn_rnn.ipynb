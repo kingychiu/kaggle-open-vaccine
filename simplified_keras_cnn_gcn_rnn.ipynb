{
 "cells": [
  {
   "cell_type": "markdown",
   "metadata": {
    "papermill": {
     "duration": 0.03356,
     "end_time": "2020-10-22T19:24:05.271404",
     "exception": false,
     "start_time": "2020-10-22T19:24:05.237844",
     "status": "completed"
    },
    "tags": []
   },
   "source": [
    "# Packages"
   ]
  },
  {
   "cell_type": "code",
   "execution_count": 1,
   "metadata": {
    "_cell_guid": "b1076dfc-b9ad-4769-8c92-a6c4dae69d19",
    "_uuid": "8f2839f25d086af736a60e9eeb907d3b93b6e0e5",
    "execution": {
     "iopub.execute_input": "2020-10-22T19:24:05.341030Z",
     "iopub.status.busy": "2020-10-22T19:24:05.340014Z",
     "iopub.status.idle": "2020-10-22T19:24:12.242018Z",
     "shell.execute_reply": "2020-10-22T19:24:12.241121Z"
    },
    "papermill": {
     "duration": 6.93986,
     "end_time": "2020-10-22T19:24:12.242144",
     "exception": false,
     "start_time": "2020-10-22T19:24:05.302284",
     "status": "completed"
    },
    "tags": []
   },
   "outputs": [],
   "source": [
    "import pandas as pd\n",
    "import numpy as np\n",
    "import json\n",
    "import os\n",
    "from tqdm import tqdm\n",
    "\n",
    "# sklearn\n",
    "from sklearn.model_selection import train_test_split\n",
    "\n",
    "# tensorflow and keras\n",
    "from keras.utils.vis_utils import plot_model\n",
    "\n",
    "import tensorflow.keras.layers as L\n",
    "import keras.backend as K\n",
    "import tensorflow as tf"
   ]
  },
  {
   "cell_type": "code",
   "execution_count": 2,
   "metadata": {
    "execution": {
     "iopub.execute_input": "2020-10-22T19:24:12.322918Z",
     "iopub.status.busy": "2020-10-22T19:24:12.322060Z",
     "iopub.status.idle": "2020-10-22T19:24:23.660408Z",
     "shell.execute_reply": "2020-10-22T19:24:23.660990Z"
    },
    "papermill": {
     "duration": 11.382788,
     "end_time": "2020-10-22T19:24:23.661176",
     "exception": false,
     "start_time": "2020-10-22T19:24:12.278388",
     "status": "completed"
    },
    "tags": []
   },
   "outputs": [],
   "source": [
    "!pip install spektral -q"
   ]
  },
  {
   "cell_type": "code",
   "execution_count": 3,
   "metadata": {
    "execution": {
     "iopub.execute_input": "2020-10-22T19:24:23.727745Z",
     "iopub.status.busy": "2020-10-22T19:24:23.726646Z",
     "iopub.status.idle": "2020-10-22T19:24:24.327123Z",
     "shell.execute_reply": "2020-10-22T19:24:24.326462Z"
    },
    "papermill": {
     "duration": 0.635759,
     "end_time": "2020-10-22T19:24:24.327257",
     "exception": false,
     "start_time": "2020-10-22T19:24:23.691498",
     "status": "completed"
    },
    "tags": []
   },
   "outputs": [],
   "source": [
    "from spektral.layers import GraphConv"
   ]
  },
  {
   "cell_type": "markdown",
   "metadata": {
    "papermill": {
     "duration": 0.031492,
     "end_time": "2020-10-22T19:24:24.396374",
     "exception": false,
     "start_time": "2020-10-22T19:24:24.364882",
     "status": "completed"
    },
    "tags": []
   },
   "source": [
    "# Read Data"
   ]
  },
  {
   "cell_type": "code",
   "execution_count": 4,
   "metadata": {
    "execution": {
     "iopub.execute_input": "2020-10-22T19:24:24.467335Z",
     "iopub.status.busy": "2020-10-22T19:24:24.466383Z",
     "iopub.status.idle": "2020-10-22T19:24:25.097686Z",
     "shell.execute_reply": "2020-10-22T19:24:25.096972Z"
    },
    "papermill": {
     "duration": 0.670415,
     "end_time": "2020-10-22T19:24:25.097828",
     "exception": false,
     "start_time": "2020-10-22T19:24:24.427413",
     "status": "completed"
    },
    "tags": []
   },
   "outputs": [],
   "source": [
    "train_json_path = \"/kaggle/input/stanford-covid-vaccine/train.json\"\n",
    "test_json_path = \"/kaggle/input/stanford-covid-vaccine/test.json\"\n",
    "sample_sub_path = \"/kaggle/input/stanford-covid-vaccine/sample_submission.csv\"\n",
    "\n",
    "output_path = \"./\"\n",
    "bpps_path = \"/kaggle/input/stanford-covid-vaccine/bpps\"\n",
    "\n",
    "train_df = pd.read_json(train_json_path, lines=True)\n",
    "test_df = pd.read_json(test_json_path, lines=True)\n",
    "\n",
    "# there are 2 part of the test set, they have different seq length\n",
    "public_df = test_df.query(\"seq_length == 107\").copy()\n",
    "private_df = test_df.query(\"seq_length == 130\").copy()"
   ]
  },
  {
   "cell_type": "code",
   "execution_count": 5,
   "metadata": {
    "execution": {
     "iopub.execute_input": "2020-10-22T19:24:25.167988Z",
     "iopub.status.busy": "2020-10-22T19:24:25.166893Z",
     "iopub.status.idle": "2020-10-22T19:24:25.171428Z",
     "shell.execute_reply": "2020-10-22T19:24:25.171960Z"
    },
    "papermill": {
     "duration": 0.043134,
     "end_time": "2020-10-22T19:24:25.172100",
     "exception": false,
     "start_time": "2020-10-22T19:24:25.128966",
     "status": "completed"
    },
    "tags": []
   },
   "outputs": [
    {
     "data": {
      "text/plain": [
       "(2400, 19)"
      ]
     },
     "execution_count": 5,
     "metadata": {},
     "output_type": "execute_result"
    }
   ],
   "source": [
    "train_df.shape"
   ]
  },
  {
   "cell_type": "markdown",
   "metadata": {
    "papermill": {
     "duration": 0.030743,
     "end_time": "2020-10-22T19:24:25.234657",
     "exception": false,
     "start_time": "2020-10-22T19:24:25.203914",
     "status": "completed"
    },
    "tags": []
   },
   "source": [
    "# Prediction Columns"
   ]
  },
  {
   "cell_type": "code",
   "execution_count": 6,
   "metadata": {
    "execution": {
     "iopub.execute_input": "2020-10-22T19:24:25.332820Z",
     "iopub.status.busy": "2020-10-22T19:24:25.317121Z",
     "iopub.status.idle": "2020-10-22T19:24:25.363765Z",
     "shell.execute_reply": "2020-10-22T19:24:25.364323Z"
    },
    "papermill": {
     "duration": 0.097259,
     "end_time": "2020-10-22T19:24:25.364467",
     "exception": false,
     "start_time": "2020-10-22T19:24:25.267208",
     "status": "completed"
    },
    "tags": []
   },
   "outputs": [
    {
     "data": {
      "text/html": [
       "<div>\n",
       "<style scoped>\n",
       "    .dataframe tbody tr th:only-of-type {\n",
       "        vertical-align: middle;\n",
       "    }\n",
       "\n",
       "    .dataframe tbody tr th {\n",
       "        vertical-align: top;\n",
       "    }\n",
       "\n",
       "    .dataframe thead th {\n",
       "        text-align: right;\n",
       "    }\n",
       "</style>\n",
       "<table border=\"1\" class=\"dataframe\">\n",
       "  <thead>\n",
       "    <tr style=\"text-align: right;\">\n",
       "      <th></th>\n",
       "      <th>reactivity</th>\n",
       "      <th>deg_Mg_pH10</th>\n",
       "      <th>deg_pH10</th>\n",
       "      <th>deg_Mg_50C</th>\n",
       "      <th>deg_50C</th>\n",
       "    </tr>\n",
       "  </thead>\n",
       "  <tbody>\n",
       "    <tr>\n",
       "      <th>0</th>\n",
       "      <td>[0.3297, 1.5693000000000001, 1.1227, 0.8686, 0...</td>\n",
       "      <td>[0.7556, 2.983, 0.2526, 1.3789, 0.637600000000...</td>\n",
       "      <td>[2.3375, 3.5060000000000002, 0.3008, 1.0108, 0...</td>\n",
       "      <td>[0.35810000000000003, 2.9683, 0.2589, 1.4552, ...</td>\n",
       "      <td>[0.6382, 3.4773, 0.9988, 1.3228, 0.78770000000...</td>\n",
       "    </tr>\n",
       "    <tr>\n",
       "      <th>1</th>\n",
       "      <td>[0.0, 0.0, 0.0, 2.2965, 0.0, 0.0, 0.0, 0.0, 0....</td>\n",
       "      <td>[0.0, 0.0, 0.0, 0.0, 0.0, 0.0, 0.0, 0.0, 0.0, ...</td>\n",
       "      <td>[4.947, 4.4523, 0.0, 0.0, 0.0, 0.0, 0.0, 0.0, ...</td>\n",
       "      <td>[4.8511, 4.0426, 0.0, 0.0, 0.0, 0.0, 0.0, 0.0,...</td>\n",
       "      <td>[7.6692, 0.0, 10.9561, 0.0, 0.0, 0.0, 0.0, 0.0...</td>\n",
       "    </tr>\n",
       "    <tr>\n",
       "      <th>2</th>\n",
       "      <td>[0.44820000000000004, 1.4822, 1.1819, 0.743400...</td>\n",
       "      <td>[0.2504, 1.4021, 0.9804, 0.49670000000000003, ...</td>\n",
       "      <td>[2.243, 2.9361, 1.0553, 0.721, 0.6396000000000...</td>\n",
       "      <td>[0.5163, 1.6823000000000001, 1.0426, 0.7902, 0...</td>\n",
       "      <td>[0.9501000000000001, 1.7974999999999999, 1.499...</td>\n",
       "    </tr>\n",
       "    <tr>\n",
       "      <th>3</th>\n",
       "      <td>[0.0, 2.2399, 0.0, 0.0, 0.0, 0.0, 0.0, 0.0, 0....</td>\n",
       "      <td>[0.0, -0.5083, 0.0, 0.0, 0.0, 0.0, 0.0, 0.0, 0...</td>\n",
       "      <td>[3.4248, 6.8128, 0.0, 0.0, 0.0, 0.0, 0.0, 0.0,...</td>\n",
       "      <td>[0.0, -0.8365, 0.0, 0.0, 0.0, 0.0, 0.0, 0.0, 0...</td>\n",
       "      <td>[7.6692, -1.3223, 0.0, 0.0, 0.0, 0.0, 0.0, 0.0...</td>\n",
       "    </tr>\n",
       "    <tr>\n",
       "      <th>4</th>\n",
       "      <td>[0.8267, 2.6577, 2.8481, 0.40090000000000003, ...</td>\n",
       "      <td>[2.1058, 3.138, 2.5437000000000003, 1.0932, 0....</td>\n",
       "      <td>[4.7366, 4.6243, 1.2068, 1.1538, 0.0, 0.0, 0.7...</td>\n",
       "      <td>[2.2052, 1.7947000000000002, 0.7457, 3.1233, 0...</td>\n",
       "      <td>[0.0, 5.1198, -0.3551, -0.3518, 0.0, 0.0, 0.0,...</td>\n",
       "    </tr>\n",
       "  </tbody>\n",
       "</table>\n",
       "</div>"
      ],
      "text/plain": [
       "                                          reactivity  \\\n",
       "0  [0.3297, 1.5693000000000001, 1.1227, 0.8686, 0...   \n",
       "1  [0.0, 0.0, 0.0, 2.2965, 0.0, 0.0, 0.0, 0.0, 0....   \n",
       "2  [0.44820000000000004, 1.4822, 1.1819, 0.743400...   \n",
       "3  [0.0, 2.2399, 0.0, 0.0, 0.0, 0.0, 0.0, 0.0, 0....   \n",
       "4  [0.8267, 2.6577, 2.8481, 0.40090000000000003, ...   \n",
       "\n",
       "                                         deg_Mg_pH10  \\\n",
       "0  [0.7556, 2.983, 0.2526, 1.3789, 0.637600000000...   \n",
       "1  [0.0, 0.0, 0.0, 0.0, 0.0, 0.0, 0.0, 0.0, 0.0, ...   \n",
       "2  [0.2504, 1.4021, 0.9804, 0.49670000000000003, ...   \n",
       "3  [0.0, -0.5083, 0.0, 0.0, 0.0, 0.0, 0.0, 0.0, 0...   \n",
       "4  [2.1058, 3.138, 2.5437000000000003, 1.0932, 0....   \n",
       "\n",
       "                                            deg_pH10  \\\n",
       "0  [2.3375, 3.5060000000000002, 0.3008, 1.0108, 0...   \n",
       "1  [4.947, 4.4523, 0.0, 0.0, 0.0, 0.0, 0.0, 0.0, ...   \n",
       "2  [2.243, 2.9361, 1.0553, 0.721, 0.6396000000000...   \n",
       "3  [3.4248, 6.8128, 0.0, 0.0, 0.0, 0.0, 0.0, 0.0,...   \n",
       "4  [4.7366, 4.6243, 1.2068, 1.1538, 0.0, 0.0, 0.7...   \n",
       "\n",
       "                                          deg_Mg_50C  \\\n",
       "0  [0.35810000000000003, 2.9683, 0.2589, 1.4552, ...   \n",
       "1  [4.8511, 4.0426, 0.0, 0.0, 0.0, 0.0, 0.0, 0.0,...   \n",
       "2  [0.5163, 1.6823000000000001, 1.0426, 0.7902, 0...   \n",
       "3  [0.0, -0.8365, 0.0, 0.0, 0.0, 0.0, 0.0, 0.0, 0...   \n",
       "4  [2.2052, 1.7947000000000002, 0.7457, 3.1233, 0...   \n",
       "\n",
       "                                             deg_50C  \n",
       "0  [0.6382, 3.4773, 0.9988, 1.3228, 0.78770000000...  \n",
       "1  [7.6692, 0.0, 10.9561, 0.0, 0.0, 0.0, 0.0, 0.0...  \n",
       "2  [0.9501000000000001, 1.7974999999999999, 1.499...  \n",
       "3  [7.6692, -1.3223, 0.0, 0.0, 0.0, 0.0, 0.0, 0.0...  \n",
       "4  [0.0, 5.1198, -0.3551, -0.3518, 0.0, 0.0, 0.0,...  "
      ]
     },
     "execution_count": 6,
     "metadata": {},
     "output_type": "execute_result"
    }
   ],
   "source": [
    "pred_cols = ['reactivity', 'deg_Mg_pH10', 'deg_pH10', 'deg_Mg_50C', 'deg_50C']\n",
    "train_df[pred_cols].head()"
   ]
  },
  {
   "cell_type": "code",
   "execution_count": 7,
   "metadata": {
    "execution": {
     "iopub.execute_input": "2020-10-22T19:24:25.550634Z",
     "iopub.status.busy": "2020-10-22T19:24:25.549579Z",
     "iopub.status.idle": "2020-10-22T19:24:25.553584Z",
     "shell.execute_reply": "2020-10-22T19:24:25.554166Z"
    },
    "papermill": {
     "duration": 0.156932,
     "end_time": "2020-10-22T19:24:25.554313",
     "exception": false,
     "start_time": "2020-10-22T19:24:25.397381",
     "status": "completed"
    },
    "tags": []
   },
   "outputs": [
    {
     "data": {
      "text/plain": [
       "(2400, 68, 5)"
      ]
     },
     "execution_count": 7,
     "metadata": {},
     "output_type": "execute_result"
    }
   ],
   "source": [
    "train_y = np.array(train_df[pred_cols].values.tolist()).transpose((0, 2, 1))\n",
    "train_y.shape"
   ]
  },
  {
   "cell_type": "markdown",
   "metadata": {
    "papermill": {
     "duration": 0.033152,
     "end_time": "2020-10-22T19:24:25.619968",
     "exception": false,
     "start_time": "2020-10-22T19:24:25.586816",
     "status": "completed"
    },
    "tags": []
   },
   "source": [
    "# Sequence Features"
   ]
  },
  {
   "cell_type": "markdown",
   "metadata": {
    "papermill": {
     "duration": 0.03394,
     "end_time": "2020-10-22T19:24:25.685995",
     "exception": false,
     "start_time": "2020-10-22T19:24:25.652055",
     "status": "completed"
    },
    "tags": []
   },
   "source": [
    "Each mRNA contains 107 bases in train:"
   ]
  },
  {
   "cell_type": "code",
   "execution_count": 8,
   "metadata": {
    "execution": {
     "iopub.execute_input": "2020-10-22T19:24:25.769039Z",
     "iopub.status.busy": "2020-10-22T19:24:25.768049Z",
     "iopub.status.idle": "2020-10-22T19:24:25.772551Z",
     "shell.execute_reply": "2020-10-22T19:24:25.773074Z"
    },
    "papermill": {
     "duration": 0.052819,
     "end_time": "2020-10-22T19:24:25.773228",
     "exception": false,
     "start_time": "2020-10-22T19:24:25.720409",
     "status": "completed"
    },
    "tags": []
   },
   "outputs": [
    {
     "data": {
      "text/html": [
       "<div>\n",
       "<style scoped>\n",
       "    .dataframe tbody tr th:only-of-type {\n",
       "        vertical-align: middle;\n",
       "    }\n",
       "\n",
       "    .dataframe tbody tr th {\n",
       "        vertical-align: top;\n",
       "    }\n",
       "\n",
       "    .dataframe thead th {\n",
       "        text-align: right;\n",
       "    }\n",
       "</style>\n",
       "<table border=\"1\" class=\"dataframe\">\n",
       "  <thead>\n",
       "    <tr style=\"text-align: right;\">\n",
       "      <th></th>\n",
       "      <th>id</th>\n",
       "      <th>sequence</th>\n",
       "      <th>structure</th>\n",
       "      <th>predicted_loop_type</th>\n",
       "    </tr>\n",
       "  </thead>\n",
       "  <tbody>\n",
       "    <tr>\n",
       "      <th>0</th>\n",
       "      <td>id_001f94081</td>\n",
       "      <td>GGAAAAGCUCUAAUAACAGGAGACUAGGACUACGUAUUUCUAGGUA...</td>\n",
       "      <td>.....((((((.......)))).)).((.....((..((((((......</td>\n",
       "      <td>EEEEESSSSSSHHHHHHHSSSSBSSXSSIIIIISSIISSSSSSHHH...</td>\n",
       "    </tr>\n",
       "    <tr>\n",
       "      <th>1</th>\n",
       "      <td>id_0049f53ba</td>\n",
       "      <td>GGAAAAAGCGCGCGCGGUUAGCGCGCGCUUUUGCGCGCGCUGUACC...</td>\n",
       "      <td>.....(((((((((((((((((((((((....)))))))))).)))...</td>\n",
       "      <td>EEEEESSSSSSSSSSSSSSSSSSSSSSSHHHHSSSSSSSSSSBSSS...</td>\n",
       "    </tr>\n",
       "    <tr>\n",
       "      <th>2</th>\n",
       "      <td>id_006f36f57</td>\n",
       "      <td>GGAAAGUGCUCAGAUAAGCUAAGCUCGAAUAGCAAUCGAAUAGAAU...</td>\n",
       "      <td>.....((((.((.....((((.(((.....)))..((((......)...</td>\n",
       "      <td>EEEEESSSSISSIIIIISSSSMSSSHHHHHSSSMMSSSSHHHHHHS...</td>\n",
       "    </tr>\n",
       "    <tr>\n",
       "      <th>3</th>\n",
       "      <td>id_0082d463b</td>\n",
       "      <td>GGAAAAGCGCGCGCGCGCGCGCGAAAAAGCGCGCGCGCGCGCGCGC...</td>\n",
       "      <td>......((((((((((((((((......))))))))))))))))((...</td>\n",
       "      <td>EEEEEESSSSSSSSSSSSSSSSHHHHHHSSSSSSSSSSSSSSSSSS...</td>\n",
       "    </tr>\n",
       "    <tr>\n",
       "      <th>4</th>\n",
       "      <td>id_0087940f4</td>\n",
       "      <td>GGAAAAUAUAUAAUAUAUUAUAUAAAUAUAUUAUAGAAGUAUAAUA...</td>\n",
       "      <td>.....(((((((.((((((((((((.(((((((((....)))))))...</td>\n",
       "      <td>EEEEESSSSSSSBSSSSSSSSSSSSBSSSSSSSSSHHHHSSSSSSS...</td>\n",
       "    </tr>\n",
       "  </tbody>\n",
       "</table>\n",
       "</div>"
      ],
      "text/plain": [
       "             id                                           sequence  \\\n",
       "0  id_001f94081  GGAAAAGCUCUAAUAACAGGAGACUAGGACUACGUAUUUCUAGGUA...   \n",
       "1  id_0049f53ba  GGAAAAAGCGCGCGCGGUUAGCGCGCGCUUUUGCGCGCGCUGUACC...   \n",
       "2  id_006f36f57  GGAAAGUGCUCAGAUAAGCUAAGCUCGAAUAGCAAUCGAAUAGAAU...   \n",
       "3  id_0082d463b  GGAAAAGCGCGCGCGCGCGCGCGAAAAAGCGCGCGCGCGCGCGCGC...   \n",
       "4  id_0087940f4  GGAAAAUAUAUAAUAUAUUAUAUAAAUAUAUUAUAGAAGUAUAAUA...   \n",
       "\n",
       "                                           structure  \\\n",
       "0  .....((((((.......)))).)).((.....((..((((((......   \n",
       "1  .....(((((((((((((((((((((((....)))))))))).)))...   \n",
       "2  .....((((.((.....((((.(((.....)))..((((......)...   \n",
       "3  ......((((((((((((((((......))))))))))))))))((...   \n",
       "4  .....(((((((.((((((((((((.(((((((((....)))))))...   \n",
       "\n",
       "                                 predicted_loop_type  \n",
       "0  EEEEESSSSSSHHHHHHHSSSSBSSXSSIIIIISSIISSSSSSHHH...  \n",
       "1  EEEEESSSSSSSSSSSSSSSSSSSSSSSHHHHSSSSSSSSSSBSSS...  \n",
       "2  EEEEESSSSISSIIIIISSSSMSSSHHHHHSSSMMSSSSHHHHHHS...  \n",
       "3  EEEEEESSSSSSSSSSSSSSSSHHHHHHSSSSSSSSSSSSSSSSSS...  \n",
       "4  EEEEESSSSSSSBSSSSSSSSSSSSBSSSSSSSSSHHHHSSSSSSS...  "
      ]
     },
     "execution_count": 8,
     "metadata": {},
     "output_type": "execute_result"
    }
   ],
   "source": [
    "train_df[[\"id\", \"sequence\", \"structure\", \"predicted_loop_type\"]].head()"
   ]
  },
  {
   "cell_type": "markdown",
   "metadata": {
    "papermill": {
     "duration": 0.034427,
     "end_time": "2020-10-22T19:24:25.842196",
     "exception": false,
     "start_time": "2020-10-22T19:24:25.807769",
     "status": "completed"
    },
    "tags": []
   },
   "source": [
    "Both `sequence`, `structure` and `predicted_loop_type` are sequences data for those 107 bases, let's transform them. \n",
    "\n",
    "(2400, 3) -> (2400, 107, 3)"
   ]
  },
  {
   "cell_type": "code",
   "execution_count": 9,
   "metadata": {
    "execution": {
     "iopub.execute_input": "2020-10-22T19:24:25.926120Z",
     "iopub.status.busy": "2020-10-22T19:24:25.925058Z",
     "iopub.status.idle": "2020-10-22T19:24:26.832121Z",
     "shell.execute_reply": "2020-10-22T19:24:26.832704Z"
    },
    "papermill": {
     "duration": 0.955207,
     "end_time": "2020-10-22T19:24:26.832867",
     "exception": false,
     "start_time": "2020-10-22T19:24:25.877660",
     "status": "completed"
    },
    "tags": []
   },
   "outputs": [
    {
     "data": {
      "text/plain": [
       "((2400, 107, 3), (629, 107, 3), (3005, 130, 3))"
      ]
     },
     "execution_count": 9,
     "metadata": {},
     "output_type": "execute_result"
    }
   ],
   "source": [
    "# label encodings for \n",
    "token2int = {x:i for i, x in enumerate('().ACGUBEHIMSX')}\n",
    "sequence_token2int = {x:i for i, x in enumerate('AGUC')}\n",
    "structure_token2int = {\n",
    "    '.': 0,\n",
    "    '(': 1,\n",
    "    ')': 2,\n",
    "}\n",
    "loop_token2int = {x:i for i, x in enumerate('SMIBHEX')}\n",
    "token2int_map = {\n",
    "    \"sequence\": sequence_token2int,\n",
    "    \"structure\": structure_token2int,\n",
    "    \"predicted_loop_type\": loop_token2int\n",
    "}\n",
    "sequence_columns = [\"sequence\", \"structure\", \"predicted_loop_type\"]\n",
    "\n",
    "def to_seq(df):\n",
    "    return np.transpose(\n",
    "        np.array(\n",
    "            df[sequence_columns]\n",
    "            .applymap(lambda seq: [token2int[x] for x in seq])\n",
    "            .values\n",
    "            .tolist()\n",
    "        ),\n",
    "        (0, 2, 1)\n",
    "    )\n",
    "\n",
    "train = to_seq(train_df)\n",
    "public = to_seq(public_df)\n",
    "private = to_seq(private_df)\n",
    "\n",
    "train.shape, public.shape, private.shape"
   ]
  },
  {
   "cell_type": "markdown",
   "metadata": {
    "papermill": {
     "duration": 0.035225,
     "end_time": "2020-10-22T19:24:26.903796",
     "exception": false,
     "start_time": "2020-10-22T19:24:26.868571",
     "status": "completed"
    },
    "tags": []
   },
   "source": [
    "Now let's apply one-hot encoding to the data\n",
    "\n",
    "(2400, 107, 3) -> (2400, 107, 14)"
   ]
  },
  {
   "cell_type": "code",
   "execution_count": 10,
   "metadata": {
    "execution": {
     "iopub.execute_input": "2020-10-22T19:24:27.033251Z",
     "iopub.status.busy": "2020-10-22T19:24:27.004166Z",
     "iopub.status.idle": "2020-10-22T19:24:27.845754Z",
     "shell.execute_reply": "2020-10-22T19:24:27.846331Z"
    },
    "papermill": {
     "duration": 0.909446,
     "end_time": "2020-10-22T19:24:27.846481",
     "exception": false,
     "start_time": "2020-10-22T19:24:26.937035",
     "status": "completed"
    },
    "tags": []
   },
   "outputs": [
    {
     "data": {
      "text/plain": [
       "((2400, 107, 14), (629, 107, 14), (3005, 130, 14))"
      ]
     },
     "execution_count": 10,
     "metadata": {},
     "output_type": "execute_result"
    }
   ],
   "source": [
    "def to_one_hot(df):\n",
    "    temp = np.transpose(\n",
    "        np.array([\n",
    "            df[col]\n",
    "            .apply(lambda seq: [token2int_map[col][x] for x in seq])\n",
    "            .values\n",
    "            .tolist()\n",
    "            for col in sequence_columns\n",
    "        ]),\n",
    "        (1, 2, 0)\n",
    "    )\n",
    "    ohe_1 = tf.keras.utils.to_categorical(temp[:,:,0], 4)\n",
    "    ohe_2 = tf.keras.utils.to_categorical(temp[:,:,1], 3)\n",
    "    ohe_3 = tf.keras.utils.to_categorical(temp[:,:,2], 7)\n",
    "    return np.concatenate([ohe_1, ohe_2, ohe_3], axis=2)\n",
    "\n",
    "train_ohe = to_one_hot(train_df)\n",
    "public_ohe = to_one_hot(public_df)\n",
    "private_ohe = to_one_hot(private_df)\n",
    "\n",
    "train_ohe.shape, public_ohe.shape, private_ohe.shape"
   ]
  },
  {
   "cell_type": "markdown",
   "metadata": {
    "papermill": {
     "duration": 0.033904,
     "end_time": "2020-10-22T19:24:27.916855",
     "exception": false,
     "start_time": "2020-10-22T19:24:27.882951",
     "status": "completed"
    },
    "tags": []
   },
   "source": [
    "# Pair/Connectivity Features"
   ]
  },
  {
   "cell_type": "markdown",
   "metadata": {
    "papermill": {
     "duration": 0.034858,
     "end_time": "2020-10-22T19:24:27.986715",
     "exception": false,
     "start_time": "2020-10-22T19:24:27.951857",
     "status": "completed"
    },
    "tags": []
   },
   "source": [
    "Get the adjacency matrices from the structure sequence:"
   ]
  },
  {
   "cell_type": "code",
   "execution_count": 11,
   "metadata": {
    "execution": {
     "iopub.execute_input": "2020-10-22T19:24:28.073401Z",
     "iopub.status.busy": "2020-10-22T19:24:28.066056Z",
     "iopub.status.idle": "2020-10-22T19:24:30.335569Z",
     "shell.execute_reply": "2020-10-22T19:24:30.336133Z"
    },
    "papermill": {
     "duration": 2.31473,
     "end_time": "2020-10-22T19:24:30.336281",
     "exception": false,
     "start_time": "2020-10-22T19:24:28.021551",
     "status": "completed"
    },
    "tags": []
   },
   "outputs": [
    {
     "data": {
      "text/plain": [
       "((2400, 107, 107), (629, 107, 107), (3005, 130, 130))"
      ]
     },
     "execution_count": 11,
     "metadata": {},
     "output_type": "execute_result"
    }
   ],
   "source": [
    "def get_adjacency_matrix(inps):\n",
    "    As = []\n",
    "    for row in range(0, inps.shape[0]):\n",
    "        A = np.zeros((inps.shape[1], inps.shape[1]))\n",
    "        stack = []\n",
    "        opened_so_far = []\n",
    "\n",
    "        for seqpos in range(0, inps.shape[1]):\n",
    "            # A[seqpos, seqpos] = 1\n",
    "            if inps[row, seqpos, 1] == 0:\n",
    "                stack.append(seqpos)\n",
    "                opened_so_far.append(seqpos)\n",
    "            elif inps[row, seqpos, 1] == 1:\n",
    "                openpos = stack.pop()\n",
    "                A[openpos, seqpos] = 1\n",
    "                A[seqpos, openpos] = 1\n",
    "        As.append(A)\n",
    "    return np.array(As)\n",
    "\n",
    "train_adj = get_adjacency_matrix(train)\n",
    "public_adj = get_adjacency_matrix(public)\n",
    "private_adj = get_adjacency_matrix(private)\n",
    "\n",
    "train_adj.shape, public_adj.shape, private_adj.shape"
   ]
  },
  {
   "cell_type": "code",
   "execution_count": 12,
   "metadata": {
    "execution": {
     "iopub.execute_input": "2020-10-22T19:24:30.413716Z",
     "iopub.status.busy": "2020-10-22T19:24:30.412498Z",
     "iopub.status.idle": "2020-10-22T19:24:30.477546Z",
     "shell.execute_reply": "2020-10-22T19:24:30.478175Z"
    },
    "papermill": {
     "duration": 0.107886,
     "end_time": "2020-10-22T19:24:30.478326",
     "exception": false,
     "start_time": "2020-10-22T19:24:30.370440",
     "status": "completed"
    },
    "tags": []
   },
   "outputs": [
    {
     "data": {
      "text/plain": [
       "(0.0041319474772178065, 0.004322480243829655, 0.0038859494530811564)"
      ]
     },
     "execution_count": 12,
     "metadata": {},
     "output_type": "execute_result"
    }
   ],
   "source": [
    "train_adj.mean(), public_adj.mean(), private_adj.mean()"
   ]
  },
  {
   "cell_type": "markdown",
   "metadata": {
    "papermill": {
     "duration": 0.038569,
     "end_time": "2020-10-22T19:24:30.557278",
     "exception": false,
     "start_time": "2020-10-22T19:24:30.518709",
     "status": "completed"
    },
    "tags": []
   },
   "source": [
    "Get the base pair probabilities from the given bpps files"
   ]
  },
  {
   "cell_type": "code",
   "execution_count": 13,
   "metadata": {
    "execution": {
     "iopub.execute_input": "2020-10-22T19:24:30.638093Z",
     "iopub.status.busy": "2020-10-22T19:24:30.637090Z",
     "iopub.status.idle": "2020-10-22T19:24:49.122285Z",
     "shell.execute_reply": "2020-10-22T19:24:49.121237Z"
    },
    "papermill": {
     "duration": 18.529021,
     "end_time": "2020-10-22T19:24:49.122421",
     "exception": false,
     "start_time": "2020-10-22T19:24:30.593400",
     "status": "completed"
    },
    "tags": []
   },
   "outputs": [
    {
     "name": "stderr",
     "output_type": "stream",
     "text": [
      "100%|██████████| 2400/2400 [00:07<00:00, 335.65it/s]\n",
      "100%|██████████| 629/629 [00:01<00:00, 340.73it/s]\n",
      "100%|██████████| 3005/3005 [00:09<00:00, 326.04it/s]\n"
     ]
    },
    {
     "data": {
      "text/plain": [
       "((2400, 107, 107), (629, 107, 107), (3005, 130, 130))"
      ]
     },
     "execution_count": 13,
     "metadata": {},
     "output_type": "execute_result"
    }
   ],
   "source": [
    "def get_bpps(mRNA_ids):\n",
    "    bpps = []\n",
    "    for mRNA_id in tqdm(mRNA_ids):\n",
    "        bpps.append(\n",
    "            np.load(f\"{bpps_path}/{mRNA_id}.npy\"),\n",
    "        )\n",
    "    return np.array(bpps)\n",
    "\n",
    "\n",
    "train_bpps = get_bpps(train_df.id.values)\n",
    "public_bpps = get_bpps(public_df.id.values)\n",
    "private_bpps = get_bpps(private_df.id.values)\n",
    "\n",
    "train_bpps.shape, public_bpps.shape, private_bpps.shape "
   ]
  },
  {
   "cell_type": "code",
   "execution_count": 14,
   "metadata": {
    "execution": {
     "iopub.execute_input": "2020-10-22T19:24:49.346532Z",
     "iopub.status.busy": "2020-10-22T19:24:49.345319Z",
     "iopub.status.idle": "2020-10-22T19:24:49.411792Z",
     "shell.execute_reply": "2020-10-22T19:24:49.412407Z"
    },
    "papermill": {
     "duration": 0.182027,
     "end_time": "2020-10-22T19:24:49.412576",
     "exception": false,
     "start_time": "2020-10-22T19:24:49.230549",
     "status": "completed"
    },
    "tags": []
   },
   "outputs": [
    {
     "data": {
      "text/plain": [
       "(0.003936093904915271, 0.0037162253979562986, 0.004133111640768379)"
      ]
     },
     "execution_count": 14,
     "metadata": {},
     "output_type": "execute_result"
    }
   ],
   "source": [
    "train_bpps.mean(), public_bpps.mean(), private_bpps.mean() "
   ]
  },
  {
   "cell_type": "markdown",
   "metadata": {
    "papermill": {
     "duration": 0.10521,
     "end_time": "2020-10-22T19:24:49.622297",
     "exception": false,
     "start_time": "2020-10-22T19:24:49.517087",
     "status": "completed"
    },
    "tags": []
   },
   "source": [
    "# Get pair probabilities statistics for each base"
   ]
  },
  {
   "cell_type": "code",
   "execution_count": 15,
   "metadata": {
    "execution": {
     "iopub.execute_input": "2020-10-22T19:24:49.838141Z",
     "iopub.status.busy": "2020-10-22T19:24:49.836892Z",
     "iopub.status.idle": "2020-10-22T19:24:50.026842Z",
     "shell.execute_reply": "2020-10-22T19:24:50.026229Z"
    },
    "papermill": {
     "duration": 0.300109,
     "end_time": "2020-10-22T19:24:50.026956",
     "exception": false,
     "start_time": "2020-10-22T19:24:49.726847",
     "status": "completed"
    },
    "tags": []
   },
   "outputs": [],
   "source": [
    "train_bpps_stats = [train_bpps.mean(axis=2), train_bpps.max(axis=2)]\n",
    "public_bpps_stats = [public_bpps.mean(axis=2), public_bpps.max(axis=2)]\n",
    "private_bpps_stats = [private_bpps.mean(axis=2), private_bpps.max(axis=2)]"
   ]
  },
  {
   "cell_type": "code",
   "execution_count": 16,
   "metadata": {
    "execution": {
     "iopub.execute_input": "2020-10-22T19:24:50.240370Z",
     "iopub.status.busy": "2020-10-22T19:24:50.239232Z",
     "iopub.status.idle": "2020-10-22T19:24:50.251079Z",
     "shell.execute_reply": "2020-10-22T19:24:50.250515Z"
    },
    "papermill": {
     "duration": 0.121859,
     "end_time": "2020-10-22T19:24:50.251189",
     "exception": false,
     "start_time": "2020-10-22T19:24:50.129330",
     "status": "completed"
    },
    "tags": []
   },
   "outputs": [
    {
     "data": {
      "text/plain": [
       "((2400, 107, 2), (629, 107, 2), (3005, 130, 2))"
      ]
     },
     "execution_count": 16,
     "metadata": {},
     "output_type": "execute_result"
    }
   ],
   "source": [
    "train_bpps_stats = np.concatenate([stats[:,:,None] for stats in train_bpps_stats], axis=2)\n",
    "public_bpps_stats = np.concatenate([stats[:,:,None] for stats in public_bpps_stats], axis=2)\n",
    "private_bpps_stats = np.concatenate([stats[:,:,None] for stats in private_bpps_stats], axis=2)\n",
    "\n",
    "train_bpps_stats.shape, public_bpps_stats.shape, private_bpps_stats.shape"
   ]
  },
  {
   "cell_type": "markdown",
   "metadata": {
    "papermill": {
     "duration": 0.104033,
     "end_time": "2020-10-22T19:24:50.462873",
     "exception": false,
     "start_time": "2020-10-22T19:24:50.358840",
     "status": "completed"
    },
    "tags": []
   },
   "source": [
    "# Model"
   ]
  },
  {
   "cell_type": "markdown",
   "metadata": {
    "papermill": {
     "duration": 0.107355,
     "end_time": "2020-10-22T19:24:50.679824",
     "exception": false,
     "start_time": "2020-10-22T19:24:50.572469",
     "status": "completed"
    },
    "tags": []
   },
   "source": [
    "![](https://www.googleapis.com/download/storage/v1/b/kaggle-forum-message-attachments/o/inbox%2F690886%2F83da03ea10245b6867febd170f6188f4%2FScreenshot%202020-10-08%20at%207.51.09%20AM.png?generation=1602114976893373&alt=media)"
   ]
  },
  {
   "cell_type": "code",
   "execution_count": 17,
   "metadata": {
    "execution": {
     "iopub.execute_input": "2020-10-22T19:24:50.919935Z",
     "iopub.status.busy": "2020-10-22T19:24:50.918976Z",
     "iopub.status.idle": "2020-10-22T19:24:56.926498Z",
     "shell.execute_reply": "2020-10-22T19:24:56.927058Z"
    },
    "papermill": {
     "duration": 6.140157,
     "end_time": "2020-10-22T19:24:56.927204",
     "exception": false,
     "start_time": "2020-10-22T19:24:50.787047",
     "status": "completed"
    },
    "tags": []
   },
   "outputs": [
    {
     "data": {
      "image/png": "[encoded data removed]",
      "text/plain": [
       "<IPython.core.display.Image object>"
      ]
     },
     "execution_count": 17,
     "metadata": {},
     "output_type": "execute_result"
    }
   ],
   "source": [
    "scored_seq_length = 68\n",
    "\n",
    "# loss functions\n",
    "def rmse(y_actual, y_pred):\n",
    "    mse = tf.keras.losses.mean_squared_error(y_actual, y_pred)\n",
    "    return K.sqrt(mse)\n",
    "\n",
    "def mcrmse(y_actual, y_pred):\n",
    "    score = 0\n",
    "    for i in range(y_actual.shape[2]):\n",
    "        score += rmse(y_actual[:, :, i], y_pred[:, :, i]) / y_actual.shape[2]\n",
    "    return score\n",
    "    \n",
    "\n",
    "def build_model(input_seq_len=107, output_seq_len=scored_seq_length):\n",
    "    \n",
    "    def _bi_gru_block(x, hidden_dim, dropout):\n",
    "        gru = L.Bidirectional(\n",
    "            L.GRU(hidden_dim, \n",
    "                  dropout=dropout,\n",
    "                  return_sequences=True,\n",
    "                 ),\n",
    "        )(x)\n",
    "        return gru\n",
    "\n",
    "    def _conv_block(x, adj_m, bpp_m, conv_filters, graph_channels):\n",
    "        # local 1-D convolution\n",
    "        conv = L.Conv1D(\n",
    "            conv_filters, 5,\n",
    "            padding='same',\n",
    "            activation='tanh',\n",
    "        )(x)\n",
    "        \n",
    "        # graph convolution\n",
    "        gcn_1 = GraphConv(\n",
    "            graph_channels,\n",
    "            activation='tanh',\n",
    "        )([conv, adj_m])\n",
    "        \n",
    "        gcn_2 = GraphConv(\n",
    "            graph_channels,\n",
    "            activation='tanh',\n",
    "        )([conv, bpp_m])\n",
    "\n",
    "        conv = L.Concatenate()([conv, gcn_1, gcn_2])\n",
    "        conv = L.Activation(\"relu\")(conv)\n",
    "        conv = L.SpatialDropout1D(0.1)(conv)\n",
    "        \n",
    "        return conv\n",
    "    \n",
    "    # inputs\n",
    "    one_hot_encoding_inputs = L.Input(shape=(input_seq_len, 14), name=\"onehot\")\n",
    "    # adjacency matrix about seq. connectivity\n",
    "    adj_matrix_inputs = L.Input((input_seq_len, input_seq_len), name=\"adjmatrix\")\n",
    "    # base pair proba\n",
    "    base_pair_proba_inputs = L.Input((input_seq_len, input_seq_len), name=\"pairproba\")\n",
    "    # base pair proba stats\n",
    "    base_pair_proba_stats_inputs = L.Input(shape=(input_seq_len, 2), name=\"pairprobastats\")\n",
    "    \n",
    "    merged_inputs = L.Concatenate()([one_hot_encoding_inputs, base_pair_proba_stats_inputs])\n",
    "    \n",
    "    # convolution and recurrent blocks.\n",
    "    hidden = _conv_block(merged_inputs, adj_matrix_inputs, base_pair_proba_inputs, 512, 80)\n",
    "    hidden = _bi_gru_block(hidden, 256, 0.5)\n",
    "    hidden = _conv_block(hidden, adj_matrix_inputs, base_pair_proba_inputs, 512, 80)\n",
    "    hidden = _bi_gru_block(hidden, 256, 0.5)\n",
    "    \n",
    "    out = hidden[:, :output_seq_len]\n",
    "    out = L.Dense(5, activation='linear')(out)\n",
    "    \n",
    "    model = tf.keras.Model(\n",
    "        inputs=[\n",
    "            one_hot_encoding_inputs,\n",
    "            adj_matrix_inputs,\n",
    "            base_pair_proba_inputs,\n",
    "            base_pair_proba_stats_inputs,\n",
    "        ],\n",
    "        outputs=out,\n",
    "    )\n",
    "\n",
    "    return model\n",
    "\n",
    "model = build_model()\n",
    "plot_model(model, to_file='model_plot.png', show_shapes=True, show_layer_names=True)"
   ]
  },
  {
   "cell_type": "markdown",
   "metadata": {
    "papermill": {
     "duration": 0.114057,
     "end_time": "2020-10-22T19:24:57.150902",
     "exception": false,
     "start_time": "2020-10-22T19:24:57.036845",
     "status": "completed"
    },
    "tags": []
   },
   "source": [
    "# Training"
   ]
  },
  {
   "cell_type": "code",
   "execution_count": 18,
   "metadata": {
    "execution": {
     "iopub.execute_input": "2020-10-22T19:24:57.388485Z",
     "iopub.status.busy": "2020-10-22T19:24:57.386945Z",
     "iopub.status.idle": "2020-10-22T19:24:57.540648Z",
     "shell.execute_reply": "2020-10-22T19:24:57.541398Z"
    },
    "papermill": {
     "duration": 0.275731,
     "end_time": "2020-10-22T19:24:57.541560",
     "exception": false,
     "start_time": "2020-10-22T19:24:57.265829",
     "status": "completed"
    },
    "tags": []
   },
   "outputs": [
    {
     "data": {
      "text/plain": [
       "[(2160, 107, 14),\n",
       " (240, 107, 14),\n",
       " (2160, 107, 107),\n",
       " (240, 107, 107),\n",
       " (2160, 107, 107),\n",
       " (240, 107, 107),\n",
       " (2160, 107, 2),\n",
       " (240, 107, 2),\n",
       " (2160, 68, 5),\n",
       " (240, 68, 5),\n",
       " (2160,),\n",
       " (240,),\n",
       " (2160,),\n",
       " (240,)]"
      ]
     },
     "execution_count": 18,
     "metadata": {},
     "output_type": "execute_result"
    }
   ],
   "source": [
    "split_results  = train_test_split(\n",
    "    train_ohe,\n",
    "    train_adj,\n",
    "    train_bpps,\n",
    "    train_bpps_stats,\n",
    "    train_y,\n",
    "    train_df.signal_to_noise,\n",
    "    train_df.SN_filter,\n",
    "    test_size=0.1,\n",
    "    random_state=42,\n",
    ")\n",
    "\n",
    "[a.shape for a in split_results]"
   ]
  },
  {
   "cell_type": "code",
   "execution_count": 19,
   "metadata": {
    "execution": {
     "iopub.execute_input": "2020-10-22T19:24:57.806914Z",
     "iopub.status.busy": "2020-10-22T19:24:57.805492Z",
     "iopub.status.idle": "2020-10-22T19:24:57.807721Z",
     "shell.execute_reply": "2020-10-22T19:24:57.808286Z"
    },
    "papermill": {
     "duration": 0.152446,
     "end_time": "2020-10-22T19:24:57.808434",
     "exception": false,
     "start_time": "2020-10-22T19:24:57.655988",
     "status": "completed"
    },
    "tags": []
   },
   "outputs": [],
   "source": [
    "trn_ohe, val_ohe, trn_adj, val_adj, trn_bpps, val_bpps, trn_bpps_stats, val_bpps_stats, trn_y, val_y, trn_snr, val_snr, trn_snf, val_snf = split_results"
   ]
  },
  {
   "cell_type": "code",
   "execution_count": 20,
   "metadata": {
    "execution": {
     "iopub.execute_input": "2020-10-22T19:24:58.057324Z",
     "iopub.status.busy": "2020-10-22T19:24:58.055475Z",
     "iopub.status.idle": "2020-10-22T19:24:59.498407Z",
     "shell.execute_reply": "2020-10-22T19:24:59.497437Z"
    },
    "papermill": {
     "duration": 1.572406,
     "end_time": "2020-10-22T19:24:59.498532",
     "exception": false,
     "start_time": "2020-10-22T19:24:57.926126",
     "status": "completed"
    },
    "tags": []
   },
   "outputs": [],
   "source": [
    "model = build_model()\n",
    "model.compile(tf.keras.optimizers.Adam(), loss=mcrmse)"
   ]
  },
  {
   "cell_type": "code",
   "execution_count": 21,
   "metadata": {
    "execution": {
     "iopub.execute_input": "2020-10-22T19:24:59.732382Z",
     "iopub.status.busy": "2020-10-22T19:24:59.731377Z",
     "iopub.status.idle": "2020-10-22T19:24:59.736190Z",
     "shell.execute_reply": "2020-10-22T19:24:59.735558Z"
    },
    "papermill": {
     "duration": 0.125857,
     "end_time": "2020-10-22T19:24:59.736301",
     "exception": false,
     "start_time": "2020-10-22T19:24:59.610444",
     "status": "completed"
    },
    "tags": []
   },
   "outputs": [],
   "source": [
    "trn_inputs = [trn_ohe, trn_adj, trn_bpps, trn_bpps_stats]\n",
    "val_inputs = [val_ohe, val_adj, val_bpps, val_bpps_stats]"
   ]
  },
  {
   "cell_type": "code",
   "execution_count": 22,
   "metadata": {
    "execution": {
     "iopub.execute_input": "2020-10-22T19:24:59.974320Z",
     "iopub.status.busy": "2020-10-22T19:24:59.972932Z",
     "iopub.status.idle": "2020-10-22T19:24:59.989757Z",
     "shell.execute_reply": "2020-10-22T19:24:59.989103Z"
    },
    "papermill": {
     "duration": 0.138136,
     "end_time": "2020-10-22T19:24:59.989903",
     "exception": false,
     "start_time": "2020-10-22T19:24:59.851767",
     "status": "completed"
    },
    "tags": []
   },
   "outputs": [],
   "source": [
    "# only validate on data with sn_filter = 1\n",
    "val_mask = np.where((val_snf==1))\n",
    "val_inputs = [val_input[val_mask] for val_input in val_inputs]\n",
    "val_y = val_y[val_mask]"
   ]
  },
  {
   "cell_type": "code",
   "execution_count": 23,
   "metadata": {
    "execution": {
     "iopub.execute_input": "2020-10-22T19:25:00.224042Z",
     "iopub.status.busy": "2020-10-22T19:25:00.223218Z",
     "iopub.status.idle": "2020-10-22T19:25:00.228012Z",
     "shell.execute_reply": "2020-10-22T19:25:00.227397Z"
    },
    "papermill": {
     "duration": 0.124407,
     "end_time": "2020-10-22T19:25:00.228132",
     "exception": false,
     "start_time": "2020-10-22T19:25:00.103725",
     "status": "completed"
    },
    "tags": []
   },
   "outputs": [],
   "source": [
    "sample_weight = np.log(trn_snr+1.11)/2"
   ]
  },
  {
   "cell_type": "code",
   "execution_count": 24,
   "metadata": {
    "execution": {
     "iopub.execute_input": "2020-10-22T19:25:00.470772Z",
     "iopub.status.busy": "2020-10-22T19:25:00.469747Z",
     "iopub.status.idle": "2020-10-22T19:31:49.062965Z",
     "shell.execute_reply": "2020-10-22T19:31:49.063510Z"
    },
    "papermill": {
     "duration": 408.716209,
     "end_time": "2020-10-22T19:31:49.063726",
     "exception": false,
     "start_time": "2020-10-22T19:25:00.347517",
     "status": "completed"
    },
    "tags": []
   },
   "outputs": [
    {
     "name": "stdout",
     "output_type": "stream",
     "text": [
      "Epoch 1/300\n",
      "34/34 - 5s - loss: 0.3642 - val_loss: 0.3536\n",
      "Epoch 2/300\n",
      "34/34 - 3s - loss: 0.2819 - val_loss: 0.3102\n",
      "Epoch 3/300\n",
      "34/34 - 3s - loss: 0.2584 - val_loss: 0.2873\n",
      "Epoch 4/300\n",
      "34/34 - 3s - loss: 0.2468 - val_loss: 0.2689\n",
      "Epoch 5/300\n",
      "34/34 - 3s - loss: 0.2388 - val_loss: 0.2581\n",
      "Epoch 6/300\n",
      "34/34 - 3s - loss: 0.2319 - val_loss: 0.2500\n",
      "Epoch 7/300\n",
      "34/34 - 3s - loss: 0.2255 - val_loss: 0.2458\n",
      "Epoch 8/300\n",
      "34/34 - 3s - loss: 0.2210 - val_loss: 0.2435\n",
      "Epoch 9/300\n",
      "34/34 - 3s - loss: 0.2170 - val_loss: 0.2414\n",
      "Epoch 10/300\n",
      "34/34 - 3s - loss: 0.2147 - val_loss: 0.2392\n",
      "Epoch 11/300\n",
      "34/34 - 3s - loss: 0.2106 - val_loss: 0.2391\n",
      "Epoch 12/300\n",
      "34/34 - 3s - loss: 0.2086 - val_loss: 0.2340\n",
      "Epoch 13/300\n",
      "34/34 - 3s - loss: 0.2056 - val_loss: 0.2326\n",
      "Epoch 14/300\n",
      "34/34 - 3s - loss: 0.2033 - val_loss: 0.2308\n",
      "Epoch 15/300\n",
      "34/34 - 3s - loss: 0.2030 - val_loss: 0.2306\n",
      "Epoch 16/300\n",
      "34/34 - 3s - loss: 0.2005 - val_loss: 0.2282\n",
      "Epoch 17/300\n",
      "34/34 - 3s - loss: 0.1978 - val_loss: 0.2265\n",
      "Epoch 18/300\n",
      "34/34 - 3s - loss: 0.1969 - val_loss: 0.2248\n",
      "Epoch 19/300\n",
      "34/34 - 2s - loss: 0.1957 - val_loss: 0.2260\n",
      "Epoch 20/300\n",
      "34/34 - 3s - loss: 0.1941 - val_loss: 0.2225\n",
      "Epoch 21/300\n",
      "34/34 - 2s - loss: 0.1924 - val_loss: 0.2227\n",
      "Epoch 22/300\n",
      "34/34 - 3s - loss: 0.1902 - val_loss: 0.2178\n",
      "Epoch 23/300\n",
      "34/34 - 2s - loss: 0.1892 - val_loss: 0.2206\n",
      "Epoch 24/300\n",
      "34/34 - 3s - loss: 0.1881 - val_loss: 0.2187\n",
      "Epoch 25/300\n",
      "34/34 - 3s - loss: 0.1862 - val_loss: 0.2182\n",
      "Epoch 26/300\n",
      "34/34 - 3s - loss: 0.1853 - val_loss: 0.2175\n",
      "Epoch 27/300\n",
      "34/34 - 3s - loss: 0.1847 - val_loss: 0.2136\n",
      "Epoch 28/300\n",
      "34/34 - 3s - loss: 0.1845 - val_loss: 0.2179\n",
      "Epoch 29/300\n",
      "34/34 - 3s - loss: 0.1810 - val_loss: 0.2184\n",
      "Epoch 30/300\n",
      "34/34 - 3s - loss: 0.1811 - val_loss: 0.2134\n",
      "Epoch 31/300\n",
      "34/34 - 3s - loss: 0.1796 - val_loss: 0.2114\n",
      "Epoch 32/300\n",
      "34/34 - 2s - loss: 0.1782 - val_loss: 0.2122\n",
      "Epoch 33/300\n",
      "34/34 - 3s - loss: 0.1778 - val_loss: 0.2116\n",
      "Epoch 34/300\n",
      "34/34 - 2s - loss: 0.1765 - val_loss: 0.2128\n",
      "Epoch 35/300\n",
      "34/34 - 3s - loss: 0.1757 - val_loss: 0.2107\n",
      "Epoch 36/300\n",
      "34/34 - 3s - loss: 0.1751 - val_loss: 0.2089\n",
      "Epoch 37/300\n",
      "34/34 - 3s - loss: 0.1744 - val_loss: 0.2118\n",
      "Epoch 38/300\n",
      "34/34 - 2s - loss: 0.1729 - val_loss: 0.2103\n",
      "Epoch 39/300\n",
      "34/34 - 3s - loss: 0.1719 - val_loss: 0.2085\n",
      "Epoch 40/300\n",
      "34/34 - 3s - loss: 0.1722 - val_loss: 0.2069\n",
      "Epoch 41/300\n",
      "34/34 - 3s - loss: 0.1707 - val_loss: 0.2061\n",
      "Epoch 42/300\n",
      "34/34 - 2s - loss: 0.1695 - val_loss: 0.2068\n",
      "Epoch 43/300\n",
      "34/34 - 2s - loss: 0.1694 - val_loss: 0.2070\n",
      "Epoch 44/300\n",
      "34/34 - 3s - loss: 0.1682 - val_loss: 0.2056\n",
      "Epoch 45/300\n",
      "34/34 - 3s - loss: 0.1686 - val_loss: 0.2077\n",
      "Epoch 46/300\n",
      "34/34 - 3s - loss: 0.1668 - val_loss: 0.2050\n",
      "Epoch 47/300\n",
      "34/34 - 3s - loss: 0.1656 - val_loss: 0.2046\n",
      "Epoch 48/300\n",
      "34/34 - 3s - loss: 0.1652 - val_loss: 0.2034\n",
      "Epoch 49/300\n",
      "34/34 - 3s - loss: 0.1642 - val_loss: 0.2043\n",
      "Epoch 50/300\n",
      "34/34 - 3s - loss: 0.1646 - val_loss: 0.2063\n",
      "Epoch 51/300\n",
      "34/34 - 2s - loss: 0.1625 - val_loss: 0.2055\n",
      "Epoch 52/300\n",
      "34/34 - 3s - loss: 0.1619 - val_loss: 0.2020\n",
      "Epoch 53/300\n",
      "34/34 - 3s - loss: 0.1610 - val_loss: 0.2012\n",
      "Epoch 54/300\n",
      "34/34 - 3s - loss: 0.1607 - val_loss: 0.2022\n",
      "Epoch 55/300\n",
      "34/34 - 2s - loss: 0.1599 - val_loss: 0.2025\n",
      "Epoch 56/300\n",
      "34/34 - 3s - loss: 0.1595 - val_loss: 0.2003\n",
      "Epoch 57/300\n",
      "34/34 - 2s - loss: 0.1585 - val_loss: 0.2031\n",
      "Epoch 58/300\n",
      "34/34 - 3s - loss: 0.1585 - val_loss: 0.2015\n",
      "Epoch 59/300\n",
      "34/34 - 2s - loss: 0.1584 - val_loss: 0.2010\n",
      "Epoch 60/300\n",
      "34/34 - 2s - loss: 0.1574 - val_loss: 0.2009\n",
      "Epoch 61/300\n",
      "34/34 - 3s - loss: 0.1560 - val_loss: 0.2001\n",
      "Epoch 62/300\n",
      "34/34 - 3s - loss: 0.1558 - val_loss: 0.2018\n",
      "Epoch 63/300\n",
      "34/34 - 2s - loss: 0.1555 - val_loss: 0.2028\n",
      "Epoch 64/300\n",
      "34/34 - 3s - loss: 0.1550 - val_loss: 0.1995\n",
      "Epoch 65/300\n",
      "34/34 - 2s - loss: 0.1539 - val_loss: 0.2005\n",
      "Epoch 66/300\n",
      "34/34 - 3s - loss: 0.1532 - val_loss: 0.1982\n",
      "Epoch 67/300\n",
      "34/34 - 2s - loss: 0.1528 - val_loss: 0.2010\n",
      "Epoch 68/300\n",
      "34/34 - 2s - loss: 0.1520 - val_loss: 0.1989\n",
      "Epoch 69/300\n",
      "34/34 - 2s - loss: 0.1524 - val_loss: 0.1987\n",
      "Epoch 70/300\n",
      "34/34 - 3s - loss: 0.1510 - val_loss: 0.2010\n",
      "Epoch 71/300\n",
      "34/34 - 2s - loss: 0.1518 - val_loss: 0.2030\n",
      "Epoch 72/300\n",
      "34/34 - 3s - loss: 0.1511 - val_loss: 0.1978\n",
      "Epoch 73/300\n",
      "34/34 - 3s - loss: 0.1500 - val_loss: 0.2013\n",
      "Epoch 74/300\n",
      "34/34 - 3s - loss: 0.1493 - val_loss: 0.1971\n",
      "Epoch 75/300\n",
      "34/34 - 2s - loss: 0.1483 - val_loss: 0.1981\n",
      "Epoch 76/300\n",
      "34/34 - 2s - loss: 0.1482 - val_loss: 0.1984\n",
      "Epoch 77/300\n",
      "34/34 - 2s - loss: 0.1479 - val_loss: 0.1992\n",
      "Epoch 78/300\n",
      "34/34 - 3s - loss: 0.1475 - val_loss: 0.2007\n",
      "Epoch 79/300\n",
      "34/34 - 3s - loss: 0.1461 - val_loss: 0.1957\n",
      "Epoch 80/300\n",
      "34/34 - 2s - loss: 0.1460 - val_loss: 0.2019\n",
      "Epoch 81/300\n",
      "34/34 - 2s - loss: 0.1456 - val_loss: 0.1981\n",
      "Epoch 82/300\n",
      "34/34 - 2s - loss: 0.1451 - val_loss: 0.1973\n",
      "Epoch 83/300\n",
      "34/34 - 3s - loss: 0.1455 - val_loss: 0.1987\n",
      "Epoch 84/300\n",
      "34/34 - 2s - loss: 0.1443 - val_loss: 0.1968\n",
      "Epoch 85/300\n",
      "34/34 - 3s - loss: 0.1436 - val_loss: 0.1972\n",
      "Epoch 86/300\n",
      "34/34 - 2s - loss: 0.1431 - val_loss: 0.1989\n",
      "Epoch 87/300\n",
      "34/34 - 2s - loss: 0.1435 - val_loss: 0.1968\n",
      "Epoch 88/300\n",
      "34/34 - 2s - loss: 0.1425 - val_loss: 0.1969\n",
      "Epoch 89/300\n",
      "\n",
      "Epoch 00089: ReduceLROnPlateau reducing learning rate to 0.00010000000474974513.\n",
      "34/34 - 2s - loss: 0.1427 - val_loss: 0.1970\n",
      "Epoch 90/300\n",
      "34/34 - 3s - loss: 0.1392 - val_loss: 0.1954\n",
      "Epoch 91/300\n",
      "34/34 - 3s - loss: 0.1377 - val_loss: 0.1942\n",
      "Epoch 92/300\n",
      "34/34 - 3s - loss: 0.1369 - val_loss: 0.1940\n",
      "Epoch 93/300\n",
      "34/34 - 2s - loss: 0.1367 - val_loss: 0.1940\n",
      "Epoch 94/300\n",
      "34/34 - 3s - loss: 0.1362 - val_loss: 0.1938\n",
      "Epoch 95/300\n",
      "34/34 - 3s - loss: 0.1362 - val_loss: 0.1939\n",
      "Epoch 96/300\n",
      "34/34 - 3s - loss: 0.1358 - val_loss: 0.1938\n",
      "Epoch 97/300\n",
      "34/34 - 3s - loss: 0.1356 - val_loss: 0.1938\n",
      "Epoch 98/300\n",
      "34/34 - 2s - loss: 0.1354 - val_loss: 0.1947\n",
      "Epoch 99/300\n",
      "34/34 - 3s - loss: 0.1352 - val_loss: 0.1943\n",
      "Epoch 100/300\n",
      "34/34 - 2s - loss: 0.1350 - val_loss: 0.1940\n",
      "Epoch 101/300\n",
      "34/34 - 3s - loss: 0.1349 - val_loss: 0.1934\n",
      "Epoch 102/300\n",
      "34/34 - 2s - loss: 0.1348 - val_loss: 0.1936\n",
      "Epoch 103/300\n",
      "34/34 - 3s - loss: 0.1345 - val_loss: 0.1935\n",
      "Epoch 104/300\n",
      "34/34 - 3s - loss: 0.1344 - val_loss: 0.1936\n",
      "Epoch 105/300\n",
      "34/34 - 2s - loss: 0.1341 - val_loss: 0.1936\n",
      "Epoch 106/300\n",
      "34/34 - 3s - loss: 0.1342 - val_loss: 0.1932\n",
      "Epoch 107/300\n",
      "34/34 - 2s - loss: 0.1343 - val_loss: 0.1934\n",
      "Epoch 108/300\n",
      "34/34 - 3s - loss: 0.1340 - val_loss: 0.1932\n",
      "Epoch 109/300\n",
      "34/34 - 3s - loss: 0.1339 - val_loss: 0.1936\n",
      "Epoch 110/300\n",
      "34/34 - 3s - loss: 0.1339 - val_loss: 0.1931\n",
      "Epoch 111/300\n",
      "34/34 - 2s - loss: 0.1336 - val_loss: 0.1937\n",
      "Epoch 112/300\n",
      "34/34 - 3s - loss: 0.1336 - val_loss: 0.1932\n",
      "Epoch 113/300\n",
      "34/34 - 3s - loss: 0.1338 - val_loss: 0.1931\n",
      "Epoch 114/300\n",
      "34/34 - 2s - loss: 0.1336 - val_loss: 0.1935\n",
      "Epoch 115/300\n",
      "34/34 - 2s - loss: 0.1333 - val_loss: 0.1935\n",
      "Epoch 116/300\n",
      "\n",
      "Epoch 00116: ReduceLROnPlateau reducing learning rate to 1.0000000474974514e-05.\n",
      "34/34 - 3s - loss: 0.1331 - val_loss: 0.1931\n",
      "Epoch 117/300\n",
      "34/34 - 2s - loss: 0.1327 - val_loss: 0.1932\n",
      "Epoch 118/300\n",
      "34/34 - 3s - loss: 0.1327 - val_loss: 0.1932\n",
      "Epoch 119/300\n",
      "34/34 - 2s - loss: 0.1325 - val_loss: 0.1931\n",
      "Epoch 120/300\n",
      "34/34 - 3s - loss: 0.1327 - val_loss: 0.1930\n",
      "Epoch 121/300\n",
      "34/34 - 3s - loss: 0.1330 - val_loss: 0.1932\n",
      "Epoch 122/300\n",
      "34/34 - 3s - loss: 0.1329 - val_loss: 0.1932\n",
      "Epoch 123/300\n",
      "34/34 - 3s - loss: 0.1327 - val_loss: 0.1930\n",
      "Epoch 124/300\n",
      "34/34 - 3s - loss: 0.1327 - val_loss: 0.1931\n",
      "Epoch 125/300\n",
      "34/34 - 2s - loss: 0.1326 - val_loss: 0.1931\n",
      "Epoch 126/300\n",
      "34/34 - 3s - loss: 0.1327 - val_loss: 0.1929\n",
      "Epoch 127/300\n",
      "34/34 - 2s - loss: 0.1325 - val_loss: 0.1930\n",
      "Epoch 128/300\n",
      "34/34 - 3s - loss: 0.1325 - val_loss: 0.1928\n",
      "Epoch 129/300\n",
      "34/34 - 3s - loss: 0.1327 - val_loss: 0.1929\n",
      "Epoch 130/300\n",
      "34/34 - 2s - loss: 0.1326 - val_loss: 0.1931\n",
      "Epoch 131/300\n",
      "34/34 - 2s - loss: 0.1327 - val_loss: 0.1930\n",
      "Epoch 132/300\n",
      "34/34 - 2s - loss: 0.1324 - val_loss: 0.1930\n",
      "Epoch 133/300\n",
      "34/34 - 3s - loss: 0.1323 - val_loss: 0.1930\n",
      "Epoch 134/300\n",
      "34/34 - 3s - loss: 0.1327 - val_loss: 0.1932\n",
      "Epoch 135/300\n",
      "34/34 - 2s - loss: 0.1326 - val_loss: 0.1929\n",
      "Epoch 136/300\n",
      "\n",
      "Epoch 00136: ReduceLROnPlateau reducing learning rate to 1.0000000656873453e-06.\n",
      "34/34 - 2s - loss: 0.1326 - val_loss: 0.1929\n",
      "Epoch 137/300\n",
      "34/34 - 3s - loss: 0.1324 - val_loss: 0.1929\n",
      "Epoch 138/300\n",
      "34/34 - 2s - loss: 0.1325 - val_loss: 0.1929\n",
      "Epoch 139/300\n",
      "34/34 - 2s - loss: 0.1324 - val_loss: 0.1930\n",
      "Epoch 140/300\n",
      "34/34 - 2s - loss: 0.1324 - val_loss: 0.1930\n",
      "Epoch 141/300\n",
      "34/34 - 3s - loss: 0.1322 - val_loss: 0.1930\n",
      "Epoch 142/300\n",
      "34/34 - 2s - loss: 0.1324 - val_loss: 0.1930\n",
      "Epoch 143/300\n",
      "34/34 - 3s - loss: 0.1322 - val_loss: 0.1930\n",
      "Epoch 144/300\n",
      "34/34 - 2s - loss: 0.1324 - val_loss: 0.1930\n",
      "Epoch 145/300\n",
      "34/34 - 3s - loss: 0.1321 - val_loss: 0.1930\n",
      "Epoch 146/300\n",
      "\n",
      "Epoch 00146: ReduceLROnPlateau reducing learning rate to 1.0000001111620805e-07.\n",
      "34/34 - 3s - loss: 0.1325 - val_loss: 0.1930\n",
      "Epoch 147/300\n",
      "34/34 - 2s - loss: 0.1323 - val_loss: 0.1930\n",
      "Epoch 148/300\n",
      "34/34 - 2s - loss: 0.1324 - val_loss: 0.1930\n",
      "Min validation loss history=0.1928359568119049\n"
     ]
    }
   ],
   "source": [
    "history = model.fit(\n",
    "    trn_inputs, trn_y,\n",
    "    validation_data = (val_inputs, val_y),\n",
    "    batch_size=64,\n",
    "    epochs=300,\n",
    "    sample_weight=sample_weight,\n",
    "    callbacks=[\n",
    "        tf.keras.callbacks.ReduceLROnPlateau(verbose=1, monitor='val_loss'),\n",
    "        tf.keras.callbacks.ModelCheckpoint(f'model.h5',save_best_only=True, verbose=0, monitor='val_loss'),\n",
    "        tf.keras.callbacks.EarlyStopping(\n",
    "            patience=20, \n",
    "            monitor='val_loss',\n",
    "            verbose=0,\n",
    "            mode=\"auto\",\n",
    "            baseline=None,\n",
    "            restore_best_weights=True,\n",
    "        ),\n",
    "    ],\n",
    "    verbose=2\n",
    ")\n",
    "print(f\"Min validation loss history={min(history.history['val_loss'])}\")"
   ]
  },
  {
   "cell_type": "code",
   "execution_count": 25,
   "metadata": {
    "execution": {
     "iopub.execute_input": "2020-10-22T19:31:49.535168Z",
     "iopub.status.busy": "2020-10-22T19:31:49.533862Z",
     "iopub.status.idle": "2020-10-22T19:31:49.555366Z",
     "shell.execute_reply": "2020-10-22T19:31:49.554763Z"
    },
    "papermill": {
     "duration": 0.272252,
     "end_time": "2020-10-22T19:31:49.555504",
     "exception": false,
     "start_time": "2020-10-22T19:31:49.283252",
     "status": "completed"
    },
    "tags": []
   },
   "outputs": [],
   "source": [
    "model.load_weights(f'model.h5')"
   ]
  },
  {
   "cell_type": "code",
   "execution_count": 26,
   "metadata": {
    "execution": {
     "iopub.execute_input": "2020-10-22T19:31:50.056083Z",
     "iopub.status.busy": "2020-10-22T19:31:50.054786Z",
     "iopub.status.idle": "2020-10-22T19:31:51.537220Z",
     "shell.execute_reply": "2020-10-22T19:31:51.536184Z"
    },
    "papermill": {
     "duration": 1.713587,
     "end_time": "2020-10-22T19:31:51.537353",
     "exception": false,
     "start_time": "2020-10-22T19:31:49.823766",
     "status": "completed"
    },
    "tags": []
   },
   "outputs": [
    {
     "data": {
      "text/plain": [
       "<tf.Tensor: shape=(), dtype=float32, numpy=0.19283596>"
      ]
     },
     "execution_count": 26,
     "metadata": {},
     "output_type": "execute_result"
    }
   ],
   "source": [
    "val_preds = model.predict(val_inputs)\n",
    "tf.reduce_mean(mcrmse(val_y, val_preds))"
   ]
  },
  {
   "cell_type": "markdown",
   "metadata": {
    "papermill": {
     "duration": 0.345031,
     "end_time": "2020-10-22T19:31:52.125291",
     "exception": false,
     "start_time": "2020-10-22T19:31:51.780260",
     "status": "completed"
    },
    "tags": []
   },
   "source": [
    "# Prepare submission"
   ]
  },
  {
   "cell_type": "code",
   "execution_count": 27,
   "metadata": {
    "execution": {
     "iopub.execute_input": "2020-10-22T19:31:52.708783Z",
     "iopub.status.busy": "2020-10-22T19:31:52.707775Z",
     "iopub.status.idle": "2020-10-22T19:31:55.122359Z",
     "shell.execute_reply": "2020-10-22T19:31:55.120725Z"
    },
    "papermill": {
     "duration": 2.672047,
     "end_time": "2020-10-22T19:31:55.122487",
     "exception": false,
     "start_time": "2020-10-22T19:31:52.450440",
     "status": "completed"
    },
    "tags": []
   },
   "outputs": [],
   "source": [
    "model_public = build_model(107, 107)\n",
    "model_private = build_model(130, 130)\n",
    "\n",
    "model_public.load_weights(f'model.h5')\n",
    "model_private.load_weights(f'model.h5')"
   ]
  },
  {
   "cell_type": "code",
   "execution_count": 28,
   "metadata": {
    "execution": {
     "iopub.execute_input": "2020-10-22T19:31:55.574172Z",
     "iopub.status.busy": "2020-10-22T19:31:55.572840Z",
     "iopub.status.idle": "2020-10-22T19:31:55.574935Z",
     "shell.execute_reply": "2020-10-22T19:31:55.575488Z"
    },
    "papermill": {
     "duration": 0.231893,
     "end_time": "2020-10-22T19:31:55.575653",
     "exception": false,
     "start_time": "2020-10-22T19:31:55.343760",
     "status": "completed"
    },
    "tags": []
   },
   "outputs": [],
   "source": [
    "public_inputs = [public_ohe, public_adj, public_bpps, public_bpps_stats,]\n",
    "private_inputs = [private_ohe, private_adj, private_bpps, private_bpps_stats,]"
   ]
  },
  {
   "cell_type": "code",
   "execution_count": 29,
   "metadata": {
    "execution": {
     "iopub.execute_input": "2020-10-22T19:31:56.042067Z",
     "iopub.status.busy": "2020-10-22T19:31:56.040683Z",
     "iopub.status.idle": "2020-10-22T19:32:01.736093Z",
     "shell.execute_reply": "2020-10-22T19:32:01.735043Z"
    },
    "papermill": {
     "duration": 5.930932,
     "end_time": "2020-10-22T19:32:01.736239",
     "exception": false,
     "start_time": "2020-10-22T19:31:55.805307",
     "status": "completed"
    },
    "tags": []
   },
   "outputs": [
    {
     "data": {
      "text/plain": [
       "((629, 107, 5), (3005, 130, 5))"
      ]
     },
     "execution_count": 29,
     "metadata": {},
     "output_type": "execute_result"
    }
   ],
   "source": [
    "test_preds = [model_public.predict(public_inputs), model_private.predict(private_inputs)]\n",
    "test_dfs = [public_df, private_df]\n",
    "\n",
    "test_preds[0].shape, test_preds[1].shape"
   ]
  },
  {
   "cell_type": "code",
   "execution_count": 30,
   "metadata": {
    "execution": {
     "iopub.execute_input": "2020-10-22T19:32:02.198688Z",
     "iopub.status.busy": "2020-10-22T19:32:02.197712Z",
     "iopub.status.idle": "2020-10-22T19:32:07.904769Z",
     "shell.execute_reply": "2020-10-22T19:32:07.904182Z"
    },
    "papermill": {
     "duration": 5.939866,
     "end_time": "2020-10-22T19:32:07.904900",
     "exception": false,
     "start_time": "2020-10-22T19:32:01.965034",
     "status": "completed"
    },
    "tags": []
   },
   "outputs": [
    {
     "name": "stderr",
     "output_type": "stream",
     "text": [
      "629it [00:01, 574.85it/s] \n",
      "3005it [00:02, 1106.20it/s]\n"
     ]
    },
    {
     "data": {
      "text/plain": [
       "((3634, 7), (457953, 6))"
      ]
     },
     "execution_count": 30,
     "metadata": {},
     "output_type": "execute_result"
    }
   ],
   "source": [
    "preds_ls = []\n",
    "for df, preds in zip(test_dfs, test_preds):\n",
    "    for i, uid in tqdm(enumerate(df.id)):\n",
    "        single_pred = preds[i]\n",
    "        single_df = pd.DataFrame(single_pred, columns=pred_cols)\n",
    "        single_df['id_seqpos'] = [f'{uid}_{x}' for x in range(single_df.shape[0])]\n",
    "        preds_ls.append(single_df)\n",
    "preds_df = pd.concat(preds_ls).groupby('id_seqpos').mean().reset_index()\n",
    "\n",
    "test_df.shape, preds_df.shape"
   ]
  },
  {
   "cell_type": "code",
   "execution_count": 31,
   "metadata": {
    "execution": {
     "iopub.execute_input": "2020-10-22T19:32:08.388324Z",
     "iopub.status.busy": "2020-10-22T19:32:08.387254Z",
     "iopub.status.idle": "2020-10-22T19:32:13.686409Z",
     "shell.execute_reply": "2020-10-22T19:32:13.687429Z"
    },
    "papermill": {
     "duration": 5.550466,
     "end_time": "2020-10-22T19:32:13.687663",
     "exception": false,
     "start_time": "2020-10-22T19:32:08.137197",
     "status": "completed"
    },
    "tags": []
   },
   "outputs": [
    {
     "name": "stdout",
     "output_type": "stream",
     "text": [
      "wrote to submission.csv\n"
     ]
    }
   ],
   "source": [
    "submission = preds_df[['id_seqpos', 'reactivity', 'deg_Mg_pH10', 'deg_pH10', 'deg_Mg_50C', 'deg_50C']]\n",
    "submission.to_csv(f'submission.csv', index=False)\n",
    "print(f'wrote to submission.csv')"
   ]
  },
  {
   "cell_type": "code",
   "execution_count": 32,
   "metadata": {
    "execution": {
     "iopub.execute_input": "2020-10-22T19:32:14.418561Z",
     "iopub.status.busy": "2020-10-22T19:32:14.417464Z",
     "iopub.status.idle": "2020-10-22T19:32:15.018935Z",
     "shell.execute_reply": "2020-10-22T19:32:15.018334Z"
    },
    "papermill": {
     "duration": 0.9735,
     "end_time": "2020-10-22T19:32:15.019052",
     "exception": false,
     "start_time": "2020-10-22T19:32:14.045552",
     "status": "completed"
    },
    "tags": []
   },
   "outputs": [
    {
     "data": {
      "text/plain": [
       "((457953, 6), (457953, 6), (3634, 7))"
      ]
     },
     "execution_count": 32,
     "metadata": {},
     "output_type": "execute_result"
    }
   ],
   "source": [
    "submission.shape, pd.read_csv(sample_sub_path).shape, test_df.shape"
   ]
  }
 ],
 "metadata": {
  "kernelspec": {
   "display_name": "Python 3",
   "language": "python",
   "name": "python3"
  },
  "language_info": {
   "codemirror_mode": {
    "name": "ipython",
    "version": 3
   },
   "file_extension": ".py",
   "mimetype": "text/x-python",
   "name": "python",
   "nbconvert_exporter": "python",
   "pygments_lexer": "ipython3",
   "version": "3.7.6"
  },
  "papermill": {
   "duration": 496.223639,
   "end_time": "2020-10-22T19:32:16.889954",
   "environment_variables": {},
   "exception": null,
   "input_path": "__notebook__.ipynb",
   "output_path": "__notebook__.ipynb",
   "parameters": {},
   "start_time": "2020-10-22T19:24:00.666315",
   "version": "2.1.0"
  }
 },
 "nbformat": 4,
 "nbformat_minor": 4
}
